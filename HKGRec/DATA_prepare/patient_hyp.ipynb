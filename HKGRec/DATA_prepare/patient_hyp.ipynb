{
 "cells": [
  {
   "cell_type": "code",
   "execution_count": null,
   "id": "27fb50e0",
   "metadata": {},
   "outputs": [],
   "source": [
    "import pandas as pd\n",
    "import matplotlib.pyplot as plt\n",
    "import time\n",
    "import numpy as np\n",
    "import warnings\n",
    "warnings.filterwarnings(\"ignore\")"
   ]
  },
  {
   "cell_type": "markdown",
   "id": "ac643c73",
   "metadata": {},
   "source": [
    "# 抽取高血压患者subject_id、hadm_id"
   ]
  },
  {
   "cell_type": "code",
   "execution_count": null,
   "id": "6955f162",
   "metadata": {},
   "outputs": [],
   "source": [
    "# 读取诊断记录，根据高血压icd_code抽取高血压诊断\n",
    "diag_icd = pd.read_csv(r'E:\\06.数据集备份\\mimic-iv-2.2\\hosp\\diagnoses_icd.csv', encoding='utf-8')  # 读取诊断记录\n",
    "diag_hyp = diag_icd.loc[diag_icd['icd_code'] == '4019']  # 按照icd_code抽取高血压诊断\n",
    "diag_hyp.drop(columns=['seq_num', 'icd_code', 'icd_version'], axis=1, inplace=True)\n",
    "diag_hyp.drop_duplicates(subset=['subject_id'], keep='first', inplace=True)  # 按患者唯一ID：subject_id去重\n",
    "diag_hyp.to_csv('diag_hyp.csv', index=False)  # 高血压病人\n",
    "print('高血压患者有：', len(diag_hyp))\n",
    "diag_hyp.head(5)"
   ]
  },
  {
   "cell_type": "code",
   "execution_count": null,
   "id": "d1b28b62",
   "metadata": {},
   "outputs": [],
   "source": [
    "# 将高血压病人id和年龄性别信息合并起来\n",
    "patients = pd.read_csv(r'E:\\06.数据集备份\\mimic-iv-2.2\\hosp\\patients.csv', encoding='utf-8')  # 病人信息\n",
    "diag_hyp = pd.read_csv(r'diag_hyp.csv', encoding='utf-8')  # 高血压病人ID\n",
    "mid_hyp = pd.merge(diag_hyp, patients, on=['subject_id'], how='left')  # 高血压病人ID+具体病人信息\n",
    "mid_hyp.drop(columns=['hadm_id', 'anchor_year', 'anchor_year_group', 'gender', 'dod'], axis=1, inplace=True)  # 去除无关信息\n",
    "mid_hyp.drop_duplicates(subset=['subject_id'], keep='first', inplace=True)  ## 按患者唯一ID：subject_id去重\n",
    "mid_hyp.to_csv('patients_mid.csv', index=False)  # 输出不显示索引值\n",
    "print('高血压患者有：', len(mid_hyp))\n",
    "mid_hyp.head(5)"
   ]
  },
  {
   "cell_type": "markdown",
   "id": "91c431fa",
   "metadata": {},
   "source": [
    "# 高血压diagnoses_icd.csv"
   ]
  },
  {
   "cell_type": "code",
   "execution_count": null,
   "id": "450f225d",
   "metadata": {
    "scrolled": true
   },
   "outputs": [],
   "source": [
    "# 原diagnosis表\n",
    "diag = pd.read_csv(r'E:\\06.数据集备份\\mimic-iv-2.2\\hosp\\diagnoses_icd.csv')\n",
    "diag"
   ]
  },
  {
   "cell_type": "code",
   "execution_count": null,
   "id": "ccf3a20b",
   "metadata": {},
   "outputs": [],
   "source": [
    "# 高血压diagnosis表\n",
    "diag_hyp = pd.merge(mid_hyp, diag, on=['subject_id'])\n",
    "diag_hyp.drop(columns=['anchor_age'], axis=1, inplace=True)\n",
    "diag_hyp.to_csv(r'E:\\06.数据集备份\\mimic-iv-高血压\\diagnoses_icd.csv', index=False)\n",
    "print('高血压患者诊断有：', len(diag_hyp))\n",
    "diag_hyp.head(5)"
   ]
  },
  {
   "cell_type": "code",
   "execution_count": null,
   "id": "2ebf158f",
   "metadata": {},
   "outputs": [],
   "source": [
    "diag = pd.read_csv(r'E:\\06.数据集备份\\mimic-iv-高血压\\diagnoses_icd.csv')\n",
    "count = diag['icd_code'].value_counts()\n",
    "count"
   ]
  },
  {
   "cell_type": "markdown",
   "id": "3018cc84",
   "metadata": {},
   "source": [
    "# 高血压admissions.csv"
   ]
  },
  {
   "cell_type": "code",
   "execution_count": null,
   "id": "d93fff0c",
   "metadata": {},
   "outputs": [],
   "source": [
    "# 原admission表\n",
    "adm = pd.read_csv(r'E:\\06.数据集备份\\mimic-iv-2.2\\hosp\\admissions.csv')\n",
    "adm.head(5)"
   ]
  },
  {
   "cell_type": "code",
   "execution_count": null,
   "id": "08fdbac1",
   "metadata": {},
   "outputs": [],
   "source": [
    "# 高血压admission表\n",
    "adm_hyp = pd.merge(mid_hyp, adm, on=['subject_id'])\n",
    "adm_hyp.drop(columns=['anchor_age'], axis=1, inplace=True)\n",
    "adm_hyp.to_csv(r'E:\\06.数据集备份\\mimic-iv-高血压\\admissions.csv', index=False)\n",
    "print('高血压患者admission有：', len(adm_hyp))\n",
    "adm_hyp.head(5)"
   ]
  },
  {
   "cell_type": "markdown",
   "id": "68e2f9d2",
   "metadata": {},
   "source": [
    "# 高血压procedures_icd.csv"
   ]
  },
  {
   "cell_type": "code",
   "execution_count": null,
   "id": "ad264130",
   "metadata": {},
   "outputs": [],
   "source": [
    "# 原procedures表\n",
    "pro = pd.read_csv(r'E:\\06.数据集备份\\mimic-iv-2.2\\hosp\\procedures_icd.csv')\n",
    "pro = pro['icd_version'] == 9\n",
    "pro.head(5)"
   ]
  },
  {
   "cell_type": "code",
   "execution_count": null,
   "id": "2e0de022",
   "metadata": {},
   "outputs": [],
   "source": [
    "# 高血压procedures表\n",
    "pro_hyp = pd.merge(mid_hyp, pro, on=['subject_id'])\n",
    "pro_hyp.drop(columns=['anchor_age'], axis=1, inplace=True)\n",
    "pro_hyp.to_csv(r'E:\\06.数据集备份\\mimic-iv-高血压\\procedures_icd.csv', index=False)\n",
    "print('高血压患者procedure有：', len(pro_hyp))\n",
    "pro_hyp.head(5)"
   ]
  },
  {
   "cell_type": "markdown",
   "source": [
    "# 高血压prescriptions.csv"
   ],
   "metadata": {
    "collapsed": false
   }
  },
  {
   "cell_type": "code",
   "execution_count": null,
   "id": "a64a1536",
   "metadata": {},
   "outputs": [],
   "source": [
    "# 原prescriptions表\n",
    "pre = pd.read_csv(r'E:\\06.数据集备份\\mimic-iv-2.2\\hosp\\prescriptions.csv', dtype={'ndc':'category'})\n",
    "pre.head(5)"
   ]
  },
  {
   "cell_type": "code",
   "execution_count": null,
   "id": "0c977a06",
   "metadata": {},
   "outputs": [],
   "source": [
    "# 高血压prescriptions表\n",
    "pre_hyp = pd.merge(mid_hyp, pre, on=['subject_id'])\n",
    "pre_hyp.drop(columns=['anchor_age'], axis=1, inplace=True)\n",
    "pre_hyp.to_csv(r'E:\\06.数据集备份\\mimic-iv-高血压\\prescriptions_all.csv', index=False)\n",
    "print('高血压患者prescription有：', len(pre_hyp))\n",
    "pre_hyp.head(5)"
   ]
  },
  {
   "cell_type": "markdown",
   "id": "019787dd",
   "metadata": {},
   "source": []
  }
 ],
 "metadata": {
  "kernelspec": {
   "display_name": "Python 3 (ipykernel)",
   "language": "python",
   "name": "python3"
  },
  "language_info": {
   "codemirror_mode": {
    "name": "ipython",
    "version": 3
   },
   "file_extension": ".py",
   "mimetype": "text/x-python",
   "name": "python",
   "nbconvert_exporter": "python",
   "pygments_lexer": "ipython3",
   "version": "3.8.16"
  }
 },
 "nbformat": 4,
 "nbformat_minor": 5
}
