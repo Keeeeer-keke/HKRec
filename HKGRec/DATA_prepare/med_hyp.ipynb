{
 "cells": [
  {
   "cell_type": "markdown",
   "id": "c065a3ad",
   "metadata": {},
   "source": [
    "# 目的：根据高血压药物的ATC代码，抽取出只有高血压药物的prescriptions.csv"
   ]
  },
  {
   "cell_type": "code",
   "execution_count": null,
   "id": "3735d215",
   "metadata": {},
   "outputs": [],
   "source": [
    "import pandas as pd\n",
    "import numpy as np\n",
    "import json\n",
    "from pandas import Series,DataFrame\n",
    "import warnings\n",
    "warnings.filterwarnings(\"ignore\")"
   ]
  },
  {
   "cell_type": "markdown",
   "id": "61c65513",
   "metadata": {},
   "source": [
    "# 原始prescriptions.csv"
   ]
  },
  {
   "cell_type": "code",
   "execution_count": null,
   "id": "ede28f3c",
   "metadata": {
    "scrolled": true
   },
   "outputs": [],
   "source": [
    "med_pd = pd.read_csv(r'E:\\06.数据集备份\\mimic-iv-高血压\\prescriptions.csv', dtype={'ndc':'category'})\n",
    "print('行数：', len(med_pd))\n",
    "med_pd.head(5)"
   ]
  },
  {
   "cell_type": "markdown",
   "id": "252d0f9d",
   "metadata": {},
   "source": [
    "# NDC代码转换成xrnorm，xrnorm再转换成atc4格式"
   ]
  },
  {
   "cell_type": "code",
   "execution_count": null,
   "id": "48fbba7f",
   "metadata": {
    "scrolled": true
   },
   "outputs": [],
   "source": [
    "ndc_rxnorm_file = './ndc2rxnorm_mapping.txt'  # 药物代码映射文件\n",
    "with open(ndc_rxnorm_file, 'r') as f:\n",
    "    ndc2rxnorm = eval(f.read())\n",
    "# ndc2rxnorm是个字典，key为ndc，value为rxcui\n",
    "med_pd['rxcui'] = med_pd['ndc'].map(ndc2rxnorm)\n",
    "print('行数：', len(med_pd))\n",
    "med_pd.head(5)"
   ]
  },
  {
   "cell_type": "code",
   "execution_count": null,
   "id": "1dfcb3eb",
   "metadata": {},
   "outputs": [],
   "source": [
    "# med_pd.replace(\"nan\",np.nan,inplace=True)\n",
    "med_pd = med_pd.dropna(subset=['rxcui'], how='any') # 删除空行\n",
    "print('行数：', len(med_pd))\n",
    "med_pd.head(5)"
   ]
  },
  {
   "cell_type": "code",
   "execution_count": null,
   "id": "470612a2",
   "metadata": {},
   "outputs": [],
   "source": [
    "rxnorm2atc_file = './rxnorm2atc4.csv'\n",
    "rxnorm2atc = pd.read_csv(rxnorm2atc_file)  # 读取rxnorm2atc文件\n",
    "rxnorm2atc = rxnorm2atc.drop(columns=['YEAR', 'MONTH', 'NDC'])  # 只留rxcui、atc4两列\n",
    "rxnorm2atc.drop_duplicates(subset=['RXCUI'], inplace=True)  # 根据rxcui值去重\n",
    "rxnorm2atc = rxnorm2atc.rename(columns={'RXCUI': 'rxcui', 'ATC4': 'atc'})\n",
    "rxnorm2atc"
   ]
  },
  {
   "cell_type": "code",
   "execution_count": null,
   "id": "48149f68",
   "metadata": {},
   "outputs": [],
   "source": [
    "rxnorm2atc['rxcui'] = rxnorm2atc['rxcui'].astype('str')  #改变数据类型为string\n",
    "# med = med_pd.reset_index(drop=True)  # 重置索引\n",
    "med_pd = med_pd.merge(rxnorm2atc, on=['rxcui'])\n",
    "print('行数：', len(med_pd))\n",
    "med_pd.head(5)"
   ]
  },
  {
   "cell_type": "markdown",
   "id": "5c0bbe10",
   "metadata": {},
   "source": [
    "# 抽取高血压药物"
   ]
  },
  {
   "cell_type": "code",
   "execution_count": null,
   "id": "1bc25d5d",
   "metadata": {},
   "outputs": [],
   "source": [
    "med_pd['atc'] = med_pd['atc'].map(lambda x: x[:3])  # 取atc前三个值\n",
    "print('行数：', len(med_pd))\n",
    "med_pd.head(5)"
   ]
  },
  {
   "cell_type": "code",
   "execution_count": null,
   "id": "44843bc3",
   "metadata": {
    "scrolled": true
   },
   "outputs": [],
   "source": [
    "# 根据高血压药物ATC值抽药物\n",
    "med_pd = med_pd[(med_pd['atc']=='C02') | (med_pd['atc']=='C03') | (med_pd['atc']=='C07') | (med_pd['atc']=='C08') | (med_pd['atc']=='C09')]\n",
    "print('行数：', len(med_pd))\n",
    "med_pd.head(5)"
   ]
  },
  {
   "cell_type": "code",
   "execution_count": null,
   "id": "75b80e1a",
   "metadata": {},
   "outputs": [],
   "source": [
    "med_pd = med_pd.drop(columns = ['rxcui', 'atc'])\n",
    "med_pd.to_csv(r'E:\\06.数据集备份\\mimic-iv-高血压\\prescriptions.csv', index=False)\n",
    "print('行数：', len(med_pd))\n",
    "med_pd.head(5)"
   ]
  }
 ],
 "metadata": {
  "kernelspec": {
   "display_name": "Python 3 (ipykernel)",
   "language": "python",
   "name": "python3"
  },
  "language_info": {
   "codemirror_mode": {
    "name": "ipython",
    "version": 3
   },
   "file_extension": ".py",
   "mimetype": "text/x-python",
   "name": "python",
   "nbconvert_exporter": "python",
   "pygments_lexer": "ipython3",
   "version": "3.8.16"
  }
 },
 "nbformat": 4,
 "nbformat_minor": 5
}
